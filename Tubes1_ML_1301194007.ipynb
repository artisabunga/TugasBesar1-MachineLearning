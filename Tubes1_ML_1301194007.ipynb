{
  "nbformat": 4,
  "nbformat_minor": 0,
  "metadata": {
    "colab": {
      "name": "Tubes1_ML.ipynb",
      "provenance": [],
      "collapsed_sections": [
        "YStBotjz4i7H"
      ]
    },
    "kernelspec": {
      "name": "python3",
      "display_name": "Python 3"
    },
    "language_info": {
      "name": "python"
    }
  },
  "cells": [
    {
      "cell_type": "markdown",
      "metadata": {
        "id": "iuMxRB5O5iVj"
      },
      "source": [
        "##Nama: Artisa Bunga Syahputri\n",
        "##NIM: 1301194007\n",
        "##Kelas: IF-43-03"
      ]
    },
    {
      "cell_type": "markdown",
      "metadata": {
        "id": "CfEuGbgnjVhy"
      },
      "source": [
        "# DOWNLOAD FILE"
      ]
    },
    {
      "cell_type": "code",
      "metadata": {
        "colab": {
          "base_uri": "https://localhost:8080/"
        },
        "id": "LHHZgm1IxShO",
        "outputId": "7253f391-4c1e-4ef9-9233-12f4374cf31b"
      },
      "source": [
        "#download data train \n",
        "!gdown --id 1sHCzDfNghSArcBQ1ipgZCilLX0nmMW8G\n",
        "#download data test \n",
        "!gdown --id 1E0LCov3gpKcVh7Q-qUw5NlKAalkgOqtW"
      ],
      "execution_count": 2,
      "outputs": [
        {
          "output_type": "stream",
          "name": "stdout",
          "text": [
            "Downloading...\n",
            "From: https://drive.google.com/uc?id=1sHCzDfNghSArcBQ1ipgZCilLX0nmMW8G\n",
            "To: /content/kendaraan_train.xlsx\n",
            "100% 14.3M/14.3M [00:00<00:00, 45.6MB/s]\n",
            "Downloading...\n",
            "From: https://drive.google.com/uc?id=1E0LCov3gpKcVh7Q-qUw5NlKAalkgOqtW\n",
            "To: /content/kendaraan_test.xlsx\n",
            "100% 2.13M/2.13M [00:00<00:00, 9.99MB/s]\n"
          ]
        }
      ]
    },
    {
      "cell_type": "markdown",
      "metadata": {
        "id": "q_dEyYqvjbSD"
      },
      "source": [
        "#LIBRARY\n"
      ]
    },
    {
      "cell_type": "code",
      "metadata": {
        "id": "Ad-kxgwACERn"
      },
      "source": [
        "import pandas as pd\n",
        "import numpy as np\n",
        "from sklearn.preprocessing import MinMaxScaler\n",
        "import math\n",
        "import random \n",
        "# library visualisasi\n",
        "import matplotlib.pyplot as plt\n",
        "import seaborn as sns\n"
      ],
      "execution_count": 98,
      "outputs": []
    },
    {
      "cell_type": "markdown",
      "metadata": {
        "id": "9VUqpgnAjkCU"
      },
      "source": [
        "#Read Data Pada Exel\n"
      ]
    },
    {
      "cell_type": "code",
      "metadata": {
        "id": "SGw9T_YnCKAN"
      },
      "source": [
        "df_train = pd.read_excel('kendaraan_train.xlsx')\n",
        "#df_test = pd.read_excel('kendaraan_test.xlsx')"
      ],
      "execution_count": 4,
      "outputs": []
    },
    {
      "cell_type": "code",
      "metadata": {
        "colab": {
          "base_uri": "https://localhost:8080/"
        },
        "id": "cWfGJ9SpDJEJ",
        "outputId": "0ad36953-6fe0-4abc-ce66-32e8d2eb619b"
      },
      "source": [
        "#tampilkan 5 data train teratas \n",
        "print(df_train.head())\n"
      ],
      "execution_count": 5,
      "outputs": [
        {
          "output_type": "stream",
          "name": "stdout",
          "text": [
            "   id Jenis_Kelamin  Umur  ...  Kanal_Penjualan  Lama_Berlangganan  Tertarik\n",
            "0   1        Wanita  30.0  ...            152.0               97.0         0\n",
            "1   2          Pria  48.0  ...             29.0              158.0         0\n",
            "2   3           NaN  21.0  ...            160.0              119.0         0\n",
            "3   4        Wanita  58.0  ...            124.0               63.0         0\n",
            "4   5          Pria  50.0  ...             88.0              194.0         0\n",
            "\n",
            "[5 rows x 12 columns]\n"
          ]
        }
      ]
    },
    {
      "cell_type": "markdown",
      "metadata": {
        "id": "yYkiRZvykN8Y"
      },
      "source": [
        "#Data Train Exploration"
      ]
    },
    {
      "cell_type": "code",
      "metadata": {
        "id": "zOhMVdWHkRSZ",
        "colab": {
          "base_uri": "https://localhost:8080/",
          "height": 359
        },
        "outputId": "401f9458-4b70-4563-e783-826da04fab07"
      },
      "source": [
        "#tampilkan 15 data train teratas \n",
        "\n",
        "df_train.head(10)"
      ],
      "execution_count": 6,
      "outputs": [
        {
          "output_type": "execute_result",
          "data": {
            "text/html": [
              "<div>\n",
              "<style scoped>\n",
              "    .dataframe tbody tr th:only-of-type {\n",
              "        vertical-align: middle;\n",
              "    }\n",
              "\n",
              "    .dataframe tbody tr th {\n",
              "        vertical-align: top;\n",
              "    }\n",
              "\n",
              "    .dataframe thead th {\n",
              "        text-align: right;\n",
              "    }\n",
              "</style>\n",
              "<table border=\"1\" class=\"dataframe\">\n",
              "  <thead>\n",
              "    <tr style=\"text-align: right;\">\n",
              "      <th></th>\n",
              "      <th>id</th>\n",
              "      <th>Jenis_Kelamin</th>\n",
              "      <th>Umur</th>\n",
              "      <th>SIM</th>\n",
              "      <th>Kode_Daerah</th>\n",
              "      <th>Sudah_Asuransi</th>\n",
              "      <th>Umur_Kendaraan</th>\n",
              "      <th>Kendaraan_Rusak</th>\n",
              "      <th>Premi</th>\n",
              "      <th>Kanal_Penjualan</th>\n",
              "      <th>Lama_Berlangganan</th>\n",
              "      <th>Tertarik</th>\n",
              "    </tr>\n",
              "  </thead>\n",
              "  <tbody>\n",
              "    <tr>\n",
              "      <th>0</th>\n",
              "      <td>1</td>\n",
              "      <td>Wanita</td>\n",
              "      <td>30.0</td>\n",
              "      <td>1.0</td>\n",
              "      <td>33.0</td>\n",
              "      <td>1.0</td>\n",
              "      <td>&lt; 1 Tahun</td>\n",
              "      <td>&lt; 1 Tahun</td>\n",
              "      <td>28029.0</td>\n",
              "      <td>152.0</td>\n",
              "      <td>97.0</td>\n",
              "      <td>0</td>\n",
              "    </tr>\n",
              "    <tr>\n",
              "      <th>1</th>\n",
              "      <td>2</td>\n",
              "      <td>Pria</td>\n",
              "      <td>48.0</td>\n",
              "      <td>1.0</td>\n",
              "      <td>39.0</td>\n",
              "      <td>0.0</td>\n",
              "      <td>&gt; 2 Tahun</td>\n",
              "      <td>Pernah</td>\n",
              "      <td>25800.0</td>\n",
              "      <td>29.0</td>\n",
              "      <td>158.0</td>\n",
              "      <td>0</td>\n",
              "    </tr>\n",
              "    <tr>\n",
              "      <th>2</th>\n",
              "      <td>3</td>\n",
              "      <td>NaN</td>\n",
              "      <td>21.0</td>\n",
              "      <td>1.0</td>\n",
              "      <td>46.0</td>\n",
              "      <td>1.0</td>\n",
              "      <td>&lt; 1 Tahun</td>\n",
              "      <td>Tidak</td>\n",
              "      <td>32733.0</td>\n",
              "      <td>160.0</td>\n",
              "      <td>119.0</td>\n",
              "      <td>0</td>\n",
              "    </tr>\n",
              "    <tr>\n",
              "      <th>3</th>\n",
              "      <td>4</td>\n",
              "      <td>Wanita</td>\n",
              "      <td>58.0</td>\n",
              "      <td>1.0</td>\n",
              "      <td>48.0</td>\n",
              "      <td>0.0</td>\n",
              "      <td>1-2 Tahun</td>\n",
              "      <td>Tidak</td>\n",
              "      <td>2630.0</td>\n",
              "      <td>124.0</td>\n",
              "      <td>63.0</td>\n",
              "      <td>0</td>\n",
              "    </tr>\n",
              "    <tr>\n",
              "      <th>4</th>\n",
              "      <td>5</td>\n",
              "      <td>Pria</td>\n",
              "      <td>50.0</td>\n",
              "      <td>1.0</td>\n",
              "      <td>35.0</td>\n",
              "      <td>0.0</td>\n",
              "      <td>&gt; 2 Tahun</td>\n",
              "      <td>NaN</td>\n",
              "      <td>34857.0</td>\n",
              "      <td>88.0</td>\n",
              "      <td>194.0</td>\n",
              "      <td>0</td>\n",
              "    </tr>\n",
              "    <tr>\n",
              "      <th>5</th>\n",
              "      <td>6</td>\n",
              "      <td>Pria</td>\n",
              "      <td>21.0</td>\n",
              "      <td>1.0</td>\n",
              "      <td>35.0</td>\n",
              "      <td>1.0</td>\n",
              "      <td>&lt; 1 Tahun</td>\n",
              "      <td>Tidak</td>\n",
              "      <td>22735.0</td>\n",
              "      <td>152.0</td>\n",
              "      <td>171.0</td>\n",
              "      <td>0</td>\n",
              "    </tr>\n",
              "    <tr>\n",
              "      <th>6</th>\n",
              "      <td>7</td>\n",
              "      <td>Wanita</td>\n",
              "      <td>33.0</td>\n",
              "      <td>1.0</td>\n",
              "      <td>8.0</td>\n",
              "      <td>0.0</td>\n",
              "      <td>NaN</td>\n",
              "      <td>Pernah</td>\n",
              "      <td>32435.0</td>\n",
              "      <td>124.0</td>\n",
              "      <td>215.0</td>\n",
              "      <td>1</td>\n",
              "    </tr>\n",
              "    <tr>\n",
              "      <th>7</th>\n",
              "      <td>8</td>\n",
              "      <td>Pria</td>\n",
              "      <td>23.0</td>\n",
              "      <td>NaN</td>\n",
              "      <td>28.0</td>\n",
              "      <td>1.0</td>\n",
              "      <td>&lt; 1 Tahun</td>\n",
              "      <td>Tidak</td>\n",
              "      <td>26869.0</td>\n",
              "      <td>152.0</td>\n",
              "      <td>222.0</td>\n",
              "      <td>0</td>\n",
              "    </tr>\n",
              "    <tr>\n",
              "      <th>8</th>\n",
              "      <td>9</td>\n",
              "      <td>Wanita</td>\n",
              "      <td>20.0</td>\n",
              "      <td>1.0</td>\n",
              "      <td>8.0</td>\n",
              "      <td>1.0</td>\n",
              "      <td>&lt; 1 Tahun</td>\n",
              "      <td>Tidak</td>\n",
              "      <td>30786.0</td>\n",
              "      <td>160.0</td>\n",
              "      <td>31.0</td>\n",
              "      <td>0</td>\n",
              "    </tr>\n",
              "    <tr>\n",
              "      <th>9</th>\n",
              "      <td>10</td>\n",
              "      <td>NaN</td>\n",
              "      <td>54.0</td>\n",
              "      <td>1.0</td>\n",
              "      <td>29.0</td>\n",
              "      <td>0.0</td>\n",
              "      <td>&gt; 2 Tahun</td>\n",
              "      <td>Pernah</td>\n",
              "      <td>88883.0</td>\n",
              "      <td>124.0</td>\n",
              "      <td>28.0</td>\n",
              "      <td>1</td>\n",
              "    </tr>\n",
              "  </tbody>\n",
              "</table>\n",
              "</div>"
            ],
            "text/plain": [
              "   id Jenis_Kelamin  Umur  ...  Kanal_Penjualan  Lama_Berlangganan  Tertarik\n",
              "0   1        Wanita  30.0  ...            152.0               97.0         0\n",
              "1   2          Pria  48.0  ...             29.0              158.0         0\n",
              "2   3           NaN  21.0  ...            160.0              119.0         0\n",
              "3   4        Wanita  58.0  ...            124.0               63.0         0\n",
              "4   5          Pria  50.0  ...             88.0              194.0         0\n",
              "5   6          Pria  21.0  ...            152.0              171.0         0\n",
              "6   7        Wanita  33.0  ...            124.0              215.0         1\n",
              "7   8          Pria  23.0  ...            152.0              222.0         0\n",
              "8   9        Wanita  20.0  ...            160.0               31.0         0\n",
              "9  10           NaN  54.0  ...            124.0               28.0         1\n",
              "\n",
              "[10 rows x 12 columns]"
            ]
          },
          "metadata": {},
          "execution_count": 6
        }
      ]
    },
    {
      "cell_type": "code",
      "metadata": {
        "colab": {
          "base_uri": "https://localhost:8080/"
        },
        "id": "jW1krGeC9lek",
        "outputId": "138a4d2e-e109-4cf9-b357-b7cf462e5962"
      },
      "source": [
        "#melihat info data train \n",
        "df_train.info()"
      ],
      "execution_count": 7,
      "outputs": [
        {
          "output_type": "stream",
          "name": "stdout",
          "text": [
            "<class 'pandas.core.frame.DataFrame'>\n",
            "RangeIndex: 285831 entries, 0 to 285830\n",
            "Data columns (total 12 columns):\n",
            " #   Column             Non-Null Count   Dtype  \n",
            "---  ------             --------------   -----  \n",
            " 0   id                 285831 non-null  int64  \n",
            " 1   Jenis_Kelamin      271391 non-null  object \n",
            " 2   Umur               271617 non-null  float64\n",
            " 3   SIM                271427 non-null  float64\n",
            " 4   Kode_Daerah        271525 non-null  float64\n",
            " 5   Sudah_Asuransi     271602 non-null  float64\n",
            " 6   Umur_Kendaraan     271556 non-null  object \n",
            " 7   Kendaraan_Rusak    271643 non-null  object \n",
            " 8   Premi              271262 non-null  float64\n",
            " 9   Kanal_Penjualan    271532 non-null  float64\n",
            " 10  Lama_Berlangganan  271839 non-null  float64\n",
            " 11  Tertarik           285831 non-null  int64  \n",
            "dtypes: float64(7), int64(2), object(3)\n",
            "memory usage: 26.2+ MB\n"
          ]
        }
      ]
    },
    {
      "cell_type": "code",
      "metadata": {
        "colab": {
          "base_uri": "https://localhost:8080/"
        },
        "id": "T7vTO-bO9xG5",
        "outputId": "51a2dae5-e0e9-4265-8864-8790de6abc0b"
      },
      "source": [
        "#ukuran data train \n",
        "df_train.shape"
      ],
      "execution_count": 8,
      "outputs": [
        {
          "output_type": "execute_result",
          "data": {
            "text/plain": [
              "(285831, 12)"
            ]
          },
          "metadata": {},
          "execution_count": 8
        }
      ]
    },
    {
      "cell_type": "code",
      "metadata": {
        "colab": {
          "base_uri": "https://localhost:8080/",
          "height": 297
        },
        "id": "WvE2rA9N-UnU",
        "outputId": "da1366f2-45ec-44c9-a3f3-e0d89cbc2003"
      },
      "source": [
        "#lihat deskripsi data train \n",
        "df_train.describe()"
      ],
      "execution_count": 9,
      "outputs": [
        {
          "output_type": "execute_result",
          "data": {
            "text/html": [
              "<div>\n",
              "<style scoped>\n",
              "    .dataframe tbody tr th:only-of-type {\n",
              "        vertical-align: middle;\n",
              "    }\n",
              "\n",
              "    .dataframe tbody tr th {\n",
              "        vertical-align: top;\n",
              "    }\n",
              "\n",
              "    .dataframe thead th {\n",
              "        text-align: right;\n",
              "    }\n",
              "</style>\n",
              "<table border=\"1\" class=\"dataframe\">\n",
              "  <thead>\n",
              "    <tr style=\"text-align: right;\">\n",
              "      <th></th>\n",
              "      <th>id</th>\n",
              "      <th>Umur</th>\n",
              "      <th>SIM</th>\n",
              "      <th>Kode_Daerah</th>\n",
              "      <th>Sudah_Asuransi</th>\n",
              "      <th>Premi</th>\n",
              "      <th>Kanal_Penjualan</th>\n",
              "      <th>Lama_Berlangganan</th>\n",
              "      <th>Tertarik</th>\n",
              "    </tr>\n",
              "  </thead>\n",
              "  <tbody>\n",
              "    <tr>\n",
              "      <th>count</th>\n",
              "      <td>285831.000000</td>\n",
              "      <td>271617.000000</td>\n",
              "      <td>271427.000000</td>\n",
              "      <td>271525.000000</td>\n",
              "      <td>271602.000000</td>\n",
              "      <td>271262.000000</td>\n",
              "      <td>271532.000000</td>\n",
              "      <td>271839.000000</td>\n",
              "      <td>285831.000000</td>\n",
              "    </tr>\n",
              "    <tr>\n",
              "      <th>mean</th>\n",
              "      <td>142916.000000</td>\n",
              "      <td>38.844336</td>\n",
              "      <td>0.997848</td>\n",
              "      <td>26.405410</td>\n",
              "      <td>0.458778</td>\n",
              "      <td>30536.683472</td>\n",
              "      <td>112.021567</td>\n",
              "      <td>154.286302</td>\n",
              "      <td>0.122471</td>\n",
              "    </tr>\n",
              "    <tr>\n",
              "      <th>std</th>\n",
              "      <td>82512.446734</td>\n",
              "      <td>15.522487</td>\n",
              "      <td>0.046335</td>\n",
              "      <td>13.252714</td>\n",
              "      <td>0.498299</td>\n",
              "      <td>17155.000770</td>\n",
              "      <td>54.202457</td>\n",
              "      <td>83.694910</td>\n",
              "      <td>0.327830</td>\n",
              "    </tr>\n",
              "    <tr>\n",
              "      <th>min</th>\n",
              "      <td>1.000000</td>\n",
              "      <td>20.000000</td>\n",
              "      <td>0.000000</td>\n",
              "      <td>0.000000</td>\n",
              "      <td>0.000000</td>\n",
              "      <td>2630.000000</td>\n",
              "      <td>1.000000</td>\n",
              "      <td>10.000000</td>\n",
              "      <td>0.000000</td>\n",
              "    </tr>\n",
              "    <tr>\n",
              "      <th>25%</th>\n",
              "      <td>71458.500000</td>\n",
              "      <td>25.000000</td>\n",
              "      <td>1.000000</td>\n",
              "      <td>15.000000</td>\n",
              "      <td>0.000000</td>\n",
              "      <td>24398.000000</td>\n",
              "      <td>29.000000</td>\n",
              "      <td>82.000000</td>\n",
              "      <td>0.000000</td>\n",
              "    </tr>\n",
              "    <tr>\n",
              "      <th>50%</th>\n",
              "      <td>142916.000000</td>\n",
              "      <td>36.000000</td>\n",
              "      <td>1.000000</td>\n",
              "      <td>28.000000</td>\n",
              "      <td>0.000000</td>\n",
              "      <td>31646.000000</td>\n",
              "      <td>132.000000</td>\n",
              "      <td>154.000000</td>\n",
              "      <td>0.000000</td>\n",
              "    </tr>\n",
              "    <tr>\n",
              "      <th>75%</th>\n",
              "      <td>214373.500000</td>\n",
              "      <td>49.000000</td>\n",
              "      <td>1.000000</td>\n",
              "      <td>35.000000</td>\n",
              "      <td>1.000000</td>\n",
              "      <td>39377.750000</td>\n",
              "      <td>152.000000</td>\n",
              "      <td>227.000000</td>\n",
              "      <td>0.000000</td>\n",
              "    </tr>\n",
              "    <tr>\n",
              "      <th>max</th>\n",
              "      <td>285831.000000</td>\n",
              "      <td>85.000000</td>\n",
              "      <td>1.000000</td>\n",
              "      <td>52.000000</td>\n",
              "      <td>1.000000</td>\n",
              "      <td>540165.000000</td>\n",
              "      <td>163.000000</td>\n",
              "      <td>299.000000</td>\n",
              "      <td>1.000000</td>\n",
              "    </tr>\n",
              "  </tbody>\n",
              "</table>\n",
              "</div>"
            ],
            "text/plain": [
              "                  id           Umur  ...  Lama_Berlangganan       Tertarik\n",
              "count  285831.000000  271617.000000  ...      271839.000000  285831.000000\n",
              "mean   142916.000000      38.844336  ...         154.286302       0.122471\n",
              "std     82512.446734      15.522487  ...          83.694910       0.327830\n",
              "min         1.000000      20.000000  ...          10.000000       0.000000\n",
              "25%     71458.500000      25.000000  ...          82.000000       0.000000\n",
              "50%    142916.000000      36.000000  ...         154.000000       0.000000\n",
              "75%    214373.500000      49.000000  ...         227.000000       0.000000\n",
              "max    285831.000000      85.000000  ...         299.000000       1.000000\n",
              "\n",
              "[8 rows x 9 columns]"
            ]
          },
          "metadata": {},
          "execution_count": 9
        }
      ]
    },
    {
      "cell_type": "code",
      "metadata": {
        "colab": {
          "base_uri": "https://localhost:8080/",
          "height": 663
        },
        "id": "_P2EhiBF56W5",
        "outputId": "fa0fb271-7f29-4d31-d02b-1f78f239b0a0"
      },
      "source": [
        "#melihat boxplot dari data train\n",
        "df_train.plot(kind='box', figsize=(20, 10) )"
      ],
      "execution_count": 10,
      "outputs": [
        {
          "output_type": "stream",
          "name": "stderr",
          "text": [
            "/usr/local/lib/python3.7/dist-packages/numpy/core/_asarray.py:83: VisibleDeprecationWarning: Creating an ndarray from ragged nested sequences (which is a list-or-tuple of lists-or-tuples-or ndarrays with different lengths or shapes) is deprecated. If you meant to do this, you must specify 'dtype=object' when creating the ndarray\n",
            "  return array(a, dtype, copy=False, order=order)\n"
          ]
        },
        {
          "output_type": "execute_result",
          "data": {
            "text/plain": [
              "<matplotlib.axes._subplots.AxesSubplot at 0x7fa81d893990>"
            ]
          },
          "metadata": {},
          "execution_count": 10
        },
        {
          "output_type": "display_data",
          "data": {
            "image/png": "[encoded data removed]",
            "text/plain": [
              "<Figure size 1440x720 with 1 Axes>"
            ]
          },
          "metadata": {
            "needs_background": "light"
          }
        }
      ]
    },
    {
      "cell_type": "markdown",
      "metadata": {
        "id": "9SmLyZFxGJka"
      },
      "source": [
        "#DATA PRE-PROCESSING"
      ]
    },
    {
      "cell_type": "code",
      "metadata": {
        "id": "GUIVidzmAJZQ"
      },
      "source": [
        "#menghilangkan outlier pada data premi \n",
        "#tentukan outlier \n",
        "Q1 = df_train['Premi'].quantile(0.25)\n",
        "Q3 = df_train['Premi'].quantile(0.75)\n",
        "IQR = Q3 - Q1\n",
        "\n",
        "Max = Q3 + (1.5 * IQR)\n",
        "Min = Q1 - (1.5 * IQR)\n",
        "\n",
        "more_than = df_train['Premi'] > Max\n",
        "lower_than = df_train['Premi'] < Min"
      ],
      "execution_count": 11,
      "outputs": []
    },
    {
      "cell_type": "code",
      "metadata": {
        "colab": {
          "base_uri": "https://localhost:8080/",
          "height": 667
        },
        "id": "3prG1FqUF7KB",
        "outputId": "922ec004-6387-4352-d5e0-2c5673e63db5"
      },
      "source": [
        "#hilangkan outlier\n",
        "df_train['Premi'] = df_train['Premi'].mask(more_than, Max)\n",
        "df_train['Premi'] = df_train['Premi'].mask(lower_than, Min)\n",
        "df_train.plot(kind='box', figsize=(20, 10) )"
      ],
      "execution_count": 12,
      "outputs": [
        {
          "output_type": "stream",
          "name": "stderr",
          "text": [
            "/usr/local/lib/python3.7/dist-packages/numpy/core/_asarray.py:83: VisibleDeprecationWarning: Creating an ndarray from ragged nested sequences (which is a list-or-tuple of lists-or-tuples-or ndarrays with different lengths or shapes) is deprecated. If you meant to do this, you must specify 'dtype=object' when creating the ndarray\n",
            "  return array(a, dtype, copy=False, order=order)\n"
          ]
        },
        {
          "output_type": "execute_result",
          "data": {
            "text/plain": [
              "<matplotlib.axes._subplots.AxesSubplot at 0x7fa80e14cf50>"
            ]
          },
          "metadata": {},
          "execution_count": 12
        },
        {
          "output_type": "display_data",
          "data": {
            "image/png": "[encoded data removed]",
            "text/plain": [
              "<Figure size 1440x720 with 1 Axes>"
            ]
          },
          "metadata": {
            "needs_background": "light"
          }
        }
      ]
    },
    {
      "cell_type": "code",
      "metadata": {
        "colab": {
          "base_uri": "https://localhost:8080/",
          "height": 359
        },
        "id": "cZZRXmf3_DPr",
        "outputId": "7098ff61-bdb7-4a3e-9110-29e30a08c796"
      },
      "source": [
        "#replace Umur_Kendaraan, Jenis_Kelamin, dan Kendaraan_Rusak to integer\n",
        "\n",
        "df_train.replace(['< 1 Tahun', '1-2 Tahun', '> 2 Tahun'], [0,1,2], inplace=True)\n",
        "\n",
        "df_train.replace(['Wanita', 'Pria'], [0,1], inplace= True)\n",
        "df_train.replace(['Tidak', 'Pernah'], [0,1], inplace=True)\n",
        "\n",
        "df_train.head(10)"
      ],
      "execution_count": 13,
      "outputs": [
        {
          "output_type": "execute_result",
          "data": {
            "text/html": [
              "<div>\n",
              "<style scoped>\n",
              "    .dataframe tbody tr th:only-of-type {\n",
              "        vertical-align: middle;\n",
              "    }\n",
              "\n",
              "    .dataframe tbody tr th {\n",
              "        vertical-align: top;\n",
              "    }\n",
              "\n",
              "    .dataframe thead th {\n",
              "        text-align: right;\n",
              "    }\n",
              "</style>\n",
              "<table border=\"1\" class=\"dataframe\">\n",
              "  <thead>\n",
              "    <tr style=\"text-align: right;\">\n",
              "      <th></th>\n",
              "      <th>id</th>\n",
              "      <th>Jenis_Kelamin</th>\n",
              "      <th>Umur</th>\n",
              "      <th>SIM</th>\n",
              "      <th>Kode_Daerah</th>\n",
              "      <th>Sudah_Asuransi</th>\n",
              "      <th>Umur_Kendaraan</th>\n",
              "      <th>Kendaraan_Rusak</th>\n",
              "      <th>Premi</th>\n",
              "      <th>Kanal_Penjualan</th>\n",
              "      <th>Lama_Berlangganan</th>\n",
              "      <th>Tertarik</th>\n",
              "    </tr>\n",
              "  </thead>\n",
              "  <tbody>\n",
              "    <tr>\n",
              "      <th>0</th>\n",
              "      <td>1</td>\n",
              "      <td>0.0</td>\n",
              "      <td>30.0</td>\n",
              "      <td>1.0</td>\n",
              "      <td>33.0</td>\n",
              "      <td>1.0</td>\n",
              "      <td>0.0</td>\n",
              "      <td>0.0</td>\n",
              "      <td>28029.000</td>\n",
              "      <td>152.0</td>\n",
              "      <td>97.0</td>\n",
              "      <td>0</td>\n",
              "    </tr>\n",
              "    <tr>\n",
              "      <th>1</th>\n",
              "      <td>2</td>\n",
              "      <td>1.0</td>\n",
              "      <td>48.0</td>\n",
              "      <td>1.0</td>\n",
              "      <td>39.0</td>\n",
              "      <td>0.0</td>\n",
              "      <td>2.0</td>\n",
              "      <td>1.0</td>\n",
              "      <td>25800.000</td>\n",
              "      <td>29.0</td>\n",
              "      <td>158.0</td>\n",
              "      <td>0</td>\n",
              "    </tr>\n",
              "    <tr>\n",
              "      <th>2</th>\n",
              "      <td>3</td>\n",
              "      <td>NaN</td>\n",
              "      <td>21.0</td>\n",
              "      <td>1.0</td>\n",
              "      <td>46.0</td>\n",
              "      <td>1.0</td>\n",
              "      <td>0.0</td>\n",
              "      <td>0.0</td>\n",
              "      <td>32733.000</td>\n",
              "      <td>160.0</td>\n",
              "      <td>119.0</td>\n",
              "      <td>0</td>\n",
              "    </tr>\n",
              "    <tr>\n",
              "      <th>3</th>\n",
              "      <td>4</td>\n",
              "      <td>0.0</td>\n",
              "      <td>58.0</td>\n",
              "      <td>1.0</td>\n",
              "      <td>48.0</td>\n",
              "      <td>0.0</td>\n",
              "      <td>1.0</td>\n",
              "      <td>0.0</td>\n",
              "      <td>2630.000</td>\n",
              "      <td>124.0</td>\n",
              "      <td>63.0</td>\n",
              "      <td>0</td>\n",
              "    </tr>\n",
              "    <tr>\n",
              "      <th>4</th>\n",
              "      <td>5</td>\n",
              "      <td>1.0</td>\n",
              "      <td>50.0</td>\n",
              "      <td>1.0</td>\n",
              "      <td>35.0</td>\n",
              "      <td>0.0</td>\n",
              "      <td>2.0</td>\n",
              "      <td>NaN</td>\n",
              "      <td>34857.000</td>\n",
              "      <td>88.0</td>\n",
              "      <td>194.0</td>\n",
              "      <td>0</td>\n",
              "    </tr>\n",
              "    <tr>\n",
              "      <th>5</th>\n",
              "      <td>6</td>\n",
              "      <td>1.0</td>\n",
              "      <td>21.0</td>\n",
              "      <td>1.0</td>\n",
              "      <td>35.0</td>\n",
              "      <td>1.0</td>\n",
              "      <td>0.0</td>\n",
              "      <td>0.0</td>\n",
              "      <td>22735.000</td>\n",
              "      <td>152.0</td>\n",
              "      <td>171.0</td>\n",
              "      <td>0</td>\n",
              "    </tr>\n",
              "    <tr>\n",
              "      <th>6</th>\n",
              "      <td>7</td>\n",
              "      <td>0.0</td>\n",
              "      <td>33.0</td>\n",
              "      <td>1.0</td>\n",
              "      <td>8.0</td>\n",
              "      <td>0.0</td>\n",
              "      <td>NaN</td>\n",
              "      <td>1.0</td>\n",
              "      <td>32435.000</td>\n",
              "      <td>124.0</td>\n",
              "      <td>215.0</td>\n",
              "      <td>1</td>\n",
              "    </tr>\n",
              "    <tr>\n",
              "      <th>7</th>\n",
              "      <td>8</td>\n",
              "      <td>1.0</td>\n",
              "      <td>23.0</td>\n",
              "      <td>NaN</td>\n",
              "      <td>28.0</td>\n",
              "      <td>1.0</td>\n",
              "      <td>0.0</td>\n",
              "      <td>0.0</td>\n",
              "      <td>26869.000</td>\n",
              "      <td>152.0</td>\n",
              "      <td>222.0</td>\n",
              "      <td>0</td>\n",
              "    </tr>\n",
              "    <tr>\n",
              "      <th>8</th>\n",
              "      <td>9</td>\n",
              "      <td>0.0</td>\n",
              "      <td>20.0</td>\n",
              "      <td>1.0</td>\n",
              "      <td>8.0</td>\n",
              "      <td>1.0</td>\n",
              "      <td>0.0</td>\n",
              "      <td>0.0</td>\n",
              "      <td>30786.000</td>\n",
              "      <td>160.0</td>\n",
              "      <td>31.0</td>\n",
              "      <td>0</td>\n",
              "    </tr>\n",
              "    <tr>\n",
              "      <th>9</th>\n",
              "      <td>10</td>\n",
              "      <td>NaN</td>\n",
              "      <td>54.0</td>\n",
              "      <td>1.0</td>\n",
              "      <td>29.0</td>\n",
              "      <td>0.0</td>\n",
              "      <td>2.0</td>\n",
              "      <td>1.0</td>\n",
              "      <td>61847.375</td>\n",
              "      <td>124.0</td>\n",
              "      <td>28.0</td>\n",
              "      <td>1</td>\n",
              "    </tr>\n",
              "  </tbody>\n",
              "</table>\n",
              "</div>"
            ],
            "text/plain": [
              "   id  Jenis_Kelamin  Umur  ...  Kanal_Penjualan  Lama_Berlangganan  Tertarik\n",
              "0   1            0.0  30.0  ...            152.0               97.0         0\n",
              "1   2            1.0  48.0  ...             29.0              158.0         0\n",
              "2   3            NaN  21.0  ...            160.0              119.0         0\n",
              "3   4            0.0  58.0  ...            124.0               63.0         0\n",
              "4   5            1.0  50.0  ...             88.0              194.0         0\n",
              "5   6            1.0  21.0  ...            152.0              171.0         0\n",
              "6   7            0.0  33.0  ...            124.0              215.0         1\n",
              "7   8            1.0  23.0  ...            152.0              222.0         0\n",
              "8   9            0.0  20.0  ...            160.0               31.0         0\n",
              "9  10            NaN  54.0  ...            124.0               28.0         1\n",
              "\n",
              "[10 rows x 12 columns]"
            ]
          },
          "metadata": {},
          "execution_count": 13
        }
      ]
    },
    {
      "cell_type": "code",
      "metadata": {
        "colab": {
          "base_uri": "https://localhost:8080/"
        },
        "id": "Z_4urUXx7WgW",
        "outputId": "a0d2ef56-931a-4ec5-fe52-62638a1d22a1"
      },
      "source": [
        "#cek missing value \n",
        "print(df_train.isnull().sum())"
      ],
      "execution_count": 14,
      "outputs": [
        {
          "output_type": "stream",
          "name": "stdout",
          "text": [
            "id                       0\n",
            "Jenis_Kelamin        14440\n",
            "Umur                 14214\n",
            "SIM                  14404\n",
            "Kode_Daerah          14306\n",
            "Sudah_Asuransi       14229\n",
            "Umur_Kendaraan       14275\n",
            "Kendaraan_Rusak      14188\n",
            "Premi                14569\n",
            "Kanal_Penjualan      14299\n",
            "Lama_Berlangganan    13992\n",
            "Tertarik                 0\n",
            "dtype: int64\n"
          ]
        }
      ]
    },
    {
      "cell_type": "code",
      "metadata": {
        "id": "j1f9Oea98NUf"
      },
      "source": [
        "#drop missing value pada datatrain\n",
        "X_train = df_train.dropna()"
      ],
      "execution_count": 15,
      "outputs": []
    },
    {
      "cell_type": "code",
      "metadata": {
        "colab": {
          "base_uri": "https://localhost:8080/"
        },
        "id": "qqTdb1_v8edE",
        "outputId": "568bcdae-7278-4727-d8e1-91e1e3a8b3cf"
      },
      "source": [
        "print(X_train.isna().sum())"
      ],
      "execution_count": 16,
      "outputs": [
        {
          "output_type": "stream",
          "name": "stdout",
          "text": [
            "id                   0\n",
            "Jenis_Kelamin        0\n",
            "Umur                 0\n",
            "SIM                  0\n",
            "Kode_Daerah          0\n",
            "Sudah_Asuransi       0\n",
            "Umur_Kendaraan       0\n",
            "Kendaraan_Rusak      0\n",
            "Premi                0\n",
            "Kanal_Penjualan      0\n",
            "Lama_Berlangganan    0\n",
            "Tertarik             0\n",
            "dtype: int64\n"
          ]
        }
      ]
    },
    {
      "cell_type": "code",
      "metadata": {
        "colab": {
          "base_uri": "https://localhost:8080/"
        },
        "id": "6mhhJgI79Dmi",
        "outputId": "fccf2685-b496-4885-af45-a06a5780ad11"
      },
      "source": [
        "#drop kolom ID\n",
        "X_train.drop(['id', 'Tertarik'], inplace=True, axis= 1)"
      ],
      "execution_count": 17,
      "outputs": [
        {
          "output_type": "stream",
          "name": "stderr",
          "text": [
            "/usr/local/lib/python3.7/dist-packages/pandas/core/frame.py:4174: SettingWithCopyWarning: \n",
            "A value is trying to be set on a copy of a slice from a DataFrame\n",
            "\n",
            "See the caveats in the documentation: https://pandas.pydata.org/pandas-docs/stable/user_guide/indexing.html#returning-a-view-versus-a-copy\n",
            "  errors=errors,\n"
          ]
        }
      ]
    },
    {
      "cell_type": "code",
      "metadata": {
        "colab": {
          "base_uri": "https://localhost:8080/",
          "height": 204
        },
        "id": "HUpFENa49Tw9",
        "outputId": "6b9b22a7-f9d7-490d-dc7d-c19dff7cbe76"
      },
      "source": [
        "X_train.head()"
      ],
      "execution_count": 18,
      "outputs": [
        {
          "output_type": "execute_result",
          "data": {
            "text/html": [
              "<div>\n",
              "<style scoped>\n",
              "    .dataframe tbody tr th:only-of-type {\n",
              "        vertical-align: middle;\n",
              "    }\n",
              "\n",
              "    .dataframe tbody tr th {\n",
              "        vertical-align: top;\n",
              "    }\n",
              "\n",
              "    .dataframe thead th {\n",
              "        text-align: right;\n",
              "    }\n",
              "</style>\n",
              "<table border=\"1\" class=\"dataframe\">\n",
              "  <thead>\n",
              "    <tr style=\"text-align: right;\">\n",
              "      <th></th>\n",
              "      <th>Jenis_Kelamin</th>\n",
              "      <th>Umur</th>\n",
              "      <th>SIM</th>\n",
              "      <th>Kode_Daerah</th>\n",
              "      <th>Sudah_Asuransi</th>\n",
              "      <th>Umur_Kendaraan</th>\n",
              "      <th>Kendaraan_Rusak</th>\n",
              "      <th>Premi</th>\n",
              "      <th>Kanal_Penjualan</th>\n",
              "      <th>Lama_Berlangganan</th>\n",
              "    </tr>\n",
              "  </thead>\n",
              "  <tbody>\n",
              "    <tr>\n",
              "      <th>0</th>\n",
              "      <td>0.0</td>\n",
              "      <td>30.0</td>\n",
              "      <td>1.0</td>\n",
              "      <td>33.0</td>\n",
              "      <td>1.0</td>\n",
              "      <td>0.0</td>\n",
              "      <td>0.0</td>\n",
              "      <td>28029.0</td>\n",
              "      <td>152.0</td>\n",
              "      <td>97.0</td>\n",
              "    </tr>\n",
              "    <tr>\n",
              "      <th>1</th>\n",
              "      <td>1.0</td>\n",
              "      <td>48.0</td>\n",
              "      <td>1.0</td>\n",
              "      <td>39.0</td>\n",
              "      <td>0.0</td>\n",
              "      <td>2.0</td>\n",
              "      <td>1.0</td>\n",
              "      <td>25800.0</td>\n",
              "      <td>29.0</td>\n",
              "      <td>158.0</td>\n",
              "    </tr>\n",
              "    <tr>\n",
              "      <th>3</th>\n",
              "      <td>0.0</td>\n",
              "      <td>58.0</td>\n",
              "      <td>1.0</td>\n",
              "      <td>48.0</td>\n",
              "      <td>0.0</td>\n",
              "      <td>1.0</td>\n",
              "      <td>0.0</td>\n",
              "      <td>2630.0</td>\n",
              "      <td>124.0</td>\n",
              "      <td>63.0</td>\n",
              "    </tr>\n",
              "    <tr>\n",
              "      <th>5</th>\n",
              "      <td>1.0</td>\n",
              "      <td>21.0</td>\n",
              "      <td>1.0</td>\n",
              "      <td>35.0</td>\n",
              "      <td>1.0</td>\n",
              "      <td>0.0</td>\n",
              "      <td>0.0</td>\n",
              "      <td>22735.0</td>\n",
              "      <td>152.0</td>\n",
              "      <td>171.0</td>\n",
              "    </tr>\n",
              "    <tr>\n",
              "      <th>8</th>\n",
              "      <td>0.0</td>\n",
              "      <td>20.0</td>\n",
              "      <td>1.0</td>\n",
              "      <td>8.0</td>\n",
              "      <td>1.0</td>\n",
              "      <td>0.0</td>\n",
              "      <td>0.0</td>\n",
              "      <td>30786.0</td>\n",
              "      <td>160.0</td>\n",
              "      <td>31.0</td>\n",
              "    </tr>\n",
              "  </tbody>\n",
              "</table>\n",
              "</div>"
            ],
            "text/plain": [
              "   Jenis_Kelamin  Umur  SIM  ...    Premi  Kanal_Penjualan  Lama_Berlangganan\n",
              "0            0.0  30.0  1.0  ...  28029.0            152.0               97.0\n",
              "1            1.0  48.0  1.0  ...  25800.0             29.0              158.0\n",
              "3            0.0  58.0  1.0  ...   2630.0            124.0               63.0\n",
              "5            1.0  21.0  1.0  ...  22735.0            152.0              171.0\n",
              "8            0.0  20.0  1.0  ...  30786.0            160.0               31.0\n",
              "\n",
              "[5 rows x 10 columns]"
            ]
          },
          "metadata": {},
          "execution_count": 18
        }
      ]
    },
    {
      "cell_type": "code",
      "metadata": {
        "id": "rRlXn6fbPEF4"
      },
      "source": [
        ""
      ],
      "execution_count": null,
      "outputs": []
    },
    {
      "cell_type": "code",
      "metadata": {
        "id": "p11P-bUM9pFt"
      },
      "source": [
        "#export dataframe setelah di preprocessing\n",
        "#X_train.to_csv('kendaraan_after_preprocessed.csv', index=False)\n",
        "#files.download('kendaraan_after_preprocessed.csv')"
      ],
      "execution_count": 233,
      "outputs": []
    },
    {
      "cell_type": "markdown",
      "metadata": {
        "id": "1823HAdLMl8o"
      },
      "source": [
        "#Proses"
      ]
    },
    {
      "cell_type": "code",
      "metadata": {
        "colab": {
          "base_uri": "https://localhost:8080/"
        },
        "id": "TqVXOpu2LwNh",
        "outputId": "eba82d11-4d8d-40c9-98b3-ffd04d680186"
      },
      "source": [
        "#drop data yang hanya memiliki nilai 0 atau 1 \n",
        "X_train.drop(['Jenis_Kelamin','SIM', 'Sudah_Asuransi', 'Kendaraan_Rusak'], inplace=True, axis= 1)"
      ],
      "execution_count": 20,
      "outputs": [
        {
          "output_type": "stream",
          "name": "stderr",
          "text": [
            "/usr/local/lib/python3.7/dist-packages/pandas/core/frame.py:4174: SettingWithCopyWarning: \n",
            "A value is trying to be set on a copy of a slice from a DataFrame\n",
            "\n",
            "See the caveats in the documentation: https://pandas.pydata.org/pandas-docs/stable/user_guide/indexing.html#returning-a-view-versus-a-copy\n",
            "  errors=errors,\n"
          ]
        }
      ]
    },
    {
      "cell_type": "markdown",
      "metadata": {
        "id": "q4v2jqtu-Cf-"
      },
      "source": [
        "#Menghitung Korelasi Antar Data "
      ]
    },
    {
      "cell_type": "code",
      "metadata": {
        "colab": {
          "base_uri": "https://localhost:8080/",
          "height": 709
        },
        "id": "7VhFsFg4Eg1M",
        "outputId": "2b669381-60d2-4321-9acc-0dd5d5d94ae1"
      },
      "source": [
        "#lihat korelasi antar data\n",
        "\n",
        "correlation_X = X_train.corr()\n",
        "\n",
        "plt.figure(figsize=(15,10))\n",
        "\n",
        "plt.title('Correlation', y=1, size=25)\n",
        "#mask = np.triu(np.ones_like(correlation_X, dtype=bool))\n",
        "\n",
        "sns.heatmap(correlation_X, annot= True, linewidths= .5, square=True)\n",
        "\n",
        "plt.show()"
      ],
      "execution_count": 21,
      "outputs": [
        {
          "output_type": "display_data",
          "data": {
            "image/png": "[encoded data removed]",
            "text/plain": [
              "<Figure size 1080x720 with 2 Axes>"
            ]
          },
          "metadata": {
            "needs_background": "light"
          }
        }
      ]
    },
    {
      "cell_type": "code",
      "metadata": {
        "id": "dmPjovXRM4vP"
      },
      "source": [
        "corr_X = X_train.corr()"
      ],
      "execution_count": 22,
      "outputs": []
    },
    {
      "cell_type": "markdown",
      "metadata": {
        "id": "vVfTehmKt0yC"
      },
      "source": [
        "#Feature Selection"
      ]
    },
    {
      "cell_type": "code",
      "metadata": {
        "id": "N2phZiH3u4PN"
      },
      "source": [
        "#ambil feature dengan korelasi yang tinggi \n",
        "#def selectCorr(data, corr_min):\n",
        "#   col_corr = set()\n",
        "#    corr_matrix = data.corr()\n",
        "#    for i in range (len(corr_matrix.columns)):\n",
        "#        for j in range (i) :\n",
        "#            if (corr_matrix.iloc[i, j]) > corr_min:\n",
        "#               col_name = corr_matrix.columns[i]\n",
        "#               col_corr.add(col_name)\n",
        "#    return col_corr"
      ],
      "execution_count": 23,
      "outputs": []
    },
    {
      "cell_type": "code",
      "metadata": {
        "id": "lbA9CpJ8u-_B"
      },
      "source": [
        "#get_feature = selectCorr(X_train, 0.005)\n",
        "#get_feature"
      ],
      "execution_count": 24,
      "outputs": []
    },
    {
      "cell_type": "code",
      "metadata": {
        "id": "RjhCdC1Yv-nm"
      },
      "source": [
        "#drop feature dengan korelasi tinggi \n",
        "#X_train = X_train.drop(['Umur', 'Kode_Daerah','Umur_Kendaraan', 'Kanal_Penjualan' ], axis=1)"
      ],
      "execution_count": 25,
      "outputs": []
    },
    {
      "cell_type": "code",
      "metadata": {
        "id": "16Bmkhb4X6y8"
      },
      "source": [
        "#mengambil data dengan korelasi terendah \n",
        "data_train = X_train[['Premi' , 'Lama_Berlangganan']]"
      ],
      "execution_count": 26,
      "outputs": []
    },
    {
      "cell_type": "code",
      "metadata": {
        "colab": {
          "base_uri": "https://localhost:8080/",
          "height": 419
        },
        "id": "UkdIXN4nwUfJ",
        "outputId": "7ddb3b33-fd06-4972-c21b-40e4c80de1ff"
      },
      "source": [
        "data_train"
      ],
      "execution_count": 27,
      "outputs": [
        {
          "output_type": "execute_result",
          "data": {
            "text/html": [
              "<div>\n",
              "<style scoped>\n",
              "    .dataframe tbody tr th:only-of-type {\n",
              "        vertical-align: middle;\n",
              "    }\n",
              "\n",
              "    .dataframe tbody tr th {\n",
              "        vertical-align: top;\n",
              "    }\n",
              "\n",
              "    .dataframe thead th {\n",
              "        text-align: right;\n",
              "    }\n",
              "</style>\n",
              "<table border=\"1\" class=\"dataframe\">\n",
              "  <thead>\n",
              "    <tr style=\"text-align: right;\">\n",
              "      <th></th>\n",
              "      <th>Premi</th>\n",
              "      <th>Lama_Berlangganan</th>\n",
              "    </tr>\n",
              "  </thead>\n",
              "  <tbody>\n",
              "    <tr>\n",
              "      <th>0</th>\n",
              "      <td>28029.0</td>\n",
              "      <td>97.0</td>\n",
              "    </tr>\n",
              "    <tr>\n",
              "      <th>1</th>\n",
              "      <td>25800.0</td>\n",
              "      <td>158.0</td>\n",
              "    </tr>\n",
              "    <tr>\n",
              "      <th>3</th>\n",
              "      <td>2630.0</td>\n",
              "      <td>63.0</td>\n",
              "    </tr>\n",
              "    <tr>\n",
              "      <th>5</th>\n",
              "      <td>22735.0</td>\n",
              "      <td>171.0</td>\n",
              "    </tr>\n",
              "    <tr>\n",
              "      <th>8</th>\n",
              "      <td>30786.0</td>\n",
              "      <td>31.0</td>\n",
              "    </tr>\n",
              "    <tr>\n",
              "      <th>...</th>\n",
              "      <td>...</td>\n",
              "      <td>...</td>\n",
              "    </tr>\n",
              "    <tr>\n",
              "      <th>285826</th>\n",
              "      <td>25988.0</td>\n",
              "      <td>217.0</td>\n",
              "    </tr>\n",
              "    <tr>\n",
              "      <th>285827</th>\n",
              "      <td>44686.0</td>\n",
              "      <td>50.0</td>\n",
              "    </tr>\n",
              "    <tr>\n",
              "      <th>285828</th>\n",
              "      <td>49751.0</td>\n",
              "      <td>226.0</td>\n",
              "    </tr>\n",
              "    <tr>\n",
              "      <th>285829</th>\n",
              "      <td>30503.0</td>\n",
              "      <td>270.0</td>\n",
              "    </tr>\n",
              "    <tr>\n",
              "      <th>285830</th>\n",
              "      <td>36480.0</td>\n",
              "      <td>44.0</td>\n",
              "    </tr>\n",
              "  </tbody>\n",
              "</table>\n",
              "<p>171068 rows × 2 columns</p>\n",
              "</div>"
            ],
            "text/plain": [
              "          Premi  Lama_Berlangganan\n",
              "0       28029.0               97.0\n",
              "1       25800.0              158.0\n",
              "3        2630.0               63.0\n",
              "5       22735.0              171.0\n",
              "8       30786.0               31.0\n",
              "...         ...                ...\n",
              "285826  25988.0              217.0\n",
              "285827  44686.0               50.0\n",
              "285828  49751.0              226.0\n",
              "285829  30503.0              270.0\n",
              "285830  36480.0               44.0\n",
              "\n",
              "[171068 rows x 2 columns]"
            ]
          },
          "metadata": {},
          "execution_count": 27
        }
      ]
    },
    {
      "cell_type": "markdown",
      "metadata": {
        "id": "e8LmbTjY23RP"
      },
      "source": [
        "#Scaling"
      ]
    },
    {
      "cell_type": "code",
      "metadata": {
        "colab": {
          "base_uri": "https://localhost:8080/",
          "height": 419
        },
        "id": "uCKxY5Pv22zj",
        "outputId": "0c82627b-25d3-442f-9b60-673ba211f084"
      },
      "source": [
        "#melakukan sceling terhadap data train yang akan di gunakan \n",
        "scalling = MinMaxScaler()\n",
        "\n",
        "data_train = pd.DataFrame(scalling.fit_transform(data_train))\n",
        "\n",
        "data_train.columns = ['Premi', 'Lama_Berlangganan']\n",
        "data_train"
      ],
      "execution_count": 28,
      "outputs": [
        {
          "output_type": "execute_result",
          "data": {
            "text/html": [
              "<div>\n",
              "<style scoped>\n",
              "    .dataframe tbody tr th:only-of-type {\n",
              "        vertical-align: middle;\n",
              "    }\n",
              "\n",
              "    .dataframe tbody tr th {\n",
              "        vertical-align: top;\n",
              "    }\n",
              "\n",
              "    .dataframe thead th {\n",
              "        text-align: right;\n",
              "    }\n",
              "</style>\n",
              "<table border=\"1\" class=\"dataframe\">\n",
              "  <thead>\n",
              "    <tr style=\"text-align: right;\">\n",
              "      <th></th>\n",
              "      <th>Premi</th>\n",
              "      <th>Lama_Berlangganan</th>\n",
              "    </tr>\n",
              "  </thead>\n",
              "  <tbody>\n",
              "    <tr>\n",
              "      <th>0</th>\n",
              "      <td>0.428911</td>\n",
              "      <td>0.301038</td>\n",
              "    </tr>\n",
              "    <tr>\n",
              "      <th>1</th>\n",
              "      <td>0.391270</td>\n",
              "      <td>0.512111</td>\n",
              "    </tr>\n",
              "    <tr>\n",
              "      <th>2</th>\n",
              "      <td>0.000000</td>\n",
              "      <td>0.183391</td>\n",
              "    </tr>\n",
              "    <tr>\n",
              "      <th>3</th>\n",
              "      <td>0.339512</td>\n",
              "      <td>0.557093</td>\n",
              "    </tr>\n",
              "    <tr>\n",
              "      <th>4</th>\n",
              "      <td>0.475469</td>\n",
              "      <td>0.072664</td>\n",
              "    </tr>\n",
              "    <tr>\n",
              "      <th>...</th>\n",
              "      <td>...</td>\n",
              "      <td>...</td>\n",
              "    </tr>\n",
              "    <tr>\n",
              "      <th>171063</th>\n",
              "      <td>0.394445</td>\n",
              "      <td>0.716263</td>\n",
              "    </tr>\n",
              "    <tr>\n",
              "      <th>171064</th>\n",
              "      <td>0.710197</td>\n",
              "      <td>0.138408</td>\n",
              "    </tr>\n",
              "    <tr>\n",
              "      <th>171065</th>\n",
              "      <td>0.795729</td>\n",
              "      <td>0.747405</td>\n",
              "    </tr>\n",
              "    <tr>\n",
              "      <th>171066</th>\n",
              "      <td>0.470690</td>\n",
              "      <td>0.899654</td>\n",
              "    </tr>\n",
              "    <tr>\n",
              "      <th>171067</th>\n",
              "      <td>0.571623</td>\n",
              "      <td>0.117647</td>\n",
              "    </tr>\n",
              "  </tbody>\n",
              "</table>\n",
              "<p>171068 rows × 2 columns</p>\n",
              "</div>"
            ],
            "text/plain": [
              "           Premi  Lama_Berlangganan\n",
              "0       0.428911           0.301038\n",
              "1       0.391270           0.512111\n",
              "2       0.000000           0.183391\n",
              "3       0.339512           0.557093\n",
              "4       0.475469           0.072664\n",
              "...          ...                ...\n",
              "171063  0.394445           0.716263\n",
              "171064  0.710197           0.138408\n",
              "171065  0.795729           0.747405\n",
              "171066  0.470690           0.899654\n",
              "171067  0.571623           0.117647\n",
              "\n",
              "[171068 rows x 2 columns]"
            ]
          },
          "metadata": {},
          "execution_count": 28
        }
      ]
    },
    {
      "cell_type": "code",
      "metadata": {
        "colab": {
          "base_uri": "https://localhost:8080/",
          "height": 297
        },
        "id": "-cXI93f54Utp",
        "outputId": "820e297b-7307-48aa-c984-9445dad9f656"
      },
      "source": [
        "data_train.describe()"
      ],
      "execution_count": 29,
      "outputs": [
        {
          "output_type": "execute_result",
          "data": {
            "text/html": [
              "<div>\n",
              "<style scoped>\n",
              "    .dataframe tbody tr th:only-of-type {\n",
              "        vertical-align: middle;\n",
              "    }\n",
              "\n",
              "    .dataframe tbody tr th {\n",
              "        vertical-align: top;\n",
              "    }\n",
              "\n",
              "    .dataframe thead th {\n",
              "        text-align: right;\n",
              "    }\n",
              "</style>\n",
              "<table border=\"1\" class=\"dataframe\">\n",
              "  <thead>\n",
              "    <tr style=\"text-align: right;\">\n",
              "      <th></th>\n",
              "      <th>Premi</th>\n",
              "      <th>Lama_Berlangganan</th>\n",
              "    </tr>\n",
              "  </thead>\n",
              "  <tbody>\n",
              "    <tr>\n",
              "      <th>count</th>\n",
              "      <td>171068.000000</td>\n",
              "      <td>171068.000000</td>\n",
              "    </tr>\n",
              "    <tr>\n",
              "      <th>mean</th>\n",
              "      <td>0.463974</td>\n",
              "      <td>0.499146</td>\n",
              "    </tr>\n",
              "    <tr>\n",
              "      <th>std</th>\n",
              "      <td>0.261228</td>\n",
              "      <td>0.290182</td>\n",
              "    </tr>\n",
              "    <tr>\n",
              "      <th>min</th>\n",
              "      <td>0.000000</td>\n",
              "      <td>0.000000</td>\n",
              "    </tr>\n",
              "    <tr>\n",
              "      <th>25%</th>\n",
              "      <td>0.367118</td>\n",
              "      <td>0.245675</td>\n",
              "    </tr>\n",
              "    <tr>\n",
              "      <th>50%</th>\n",
              "      <td>0.489265</td>\n",
              "      <td>0.498270</td>\n",
              "    </tr>\n",
              "    <tr>\n",
              "      <th>75%</th>\n",
              "      <td>0.619637</td>\n",
              "      <td>0.750865</td>\n",
              "    </tr>\n",
              "    <tr>\n",
              "      <th>max</th>\n",
              "      <td>1.000000</td>\n",
              "      <td>1.000000</td>\n",
              "    </tr>\n",
              "  </tbody>\n",
              "</table>\n",
              "</div>"
            ],
            "text/plain": [
              "               Premi  Lama_Berlangganan\n",
              "count  171068.000000      171068.000000\n",
              "mean        0.463974           0.499146\n",
              "std         0.261228           0.290182\n",
              "min         0.000000           0.000000\n",
              "25%         0.367118           0.245675\n",
              "50%         0.489265           0.498270\n",
              "75%         0.619637           0.750865\n",
              "max         1.000000           1.000000"
            ]
          },
          "metadata": {},
          "execution_count": 29
        }
      ]
    },
    {
      "cell_type": "markdown",
      "metadata": {
        "id": "1AwsYcOtPQWD"
      },
      "source": [
        "#Kmeans"
      ]
    },
    {
      "cell_type": "code",
      "metadata": {
        "id": "S-ngoCZOPPw_"
      },
      "source": [
        "#fungsi menghitung jarak data ke centroid menggunakan eucledian distance \n",
        "def euclidianDistance(instance1,instance2):\n",
        "  distance = 0\n",
        "  x=0\n",
        "  for x in range(len(instance2)):\n",
        "    distance += pow((instance1[x]-instance2[x]), 2 )\n",
        "  return math.sqrt(distance)"
      ],
      "execution_count": 99,
      "outputs": []
    },
    {
      "cell_type": "code",
      "metadata": {
        "id": "0KNsvCeeXs0D"
      },
      "source": [
        "# fungsi untuk menghitung apakan centroid sudah tetap atau belum \n",
        "def convergent(temp_centroids, centroids):\n",
        "  if( np.array(centroids).all != np.array(temp_centroids).all):\n",
        "    return False\n",
        "\n",
        "  return True"
      ],
      "execution_count": 113,
      "outputs": []
    },
    {
      "cell_type": "code",
      "metadata": {
        "id": "ylWkffMVX1Ir"
      },
      "source": [
        "def kMeans(K , max_iterasi,data):\n",
        "  sum_square_error = 0\n",
        "\n",
        "  # inisialisasi centroid \n",
        "  centroids = {i: data[random.randint(0, len(data))] for i in range(K)}\n",
        "  # copy centroid sekarang untuk dibandingkan dengan centroid setelahnya\n",
        "  temp_centroids = centroids.copy()\n",
        "\n",
        "  for _ in range(max_iterasi):\n",
        "    #mendefinisikan cluster \n",
        "    cluster = {i : [] for i in range(K)}\n",
        "    sse = []\n",
        "\n",
        "    #mencari nilai terdekat data dengan euclidiant distance dan masukan ke cluster \n",
        "    for x in data:\n",
        "      jarak = [euclidianDistance(x, centroids[c]) for c in centroids]\n",
        "      sse.append(np.min(jarak))\n",
        "\n",
        "      cluster[jarak.index(min(jarak))].append(x)\n",
        "    #merecompute centroid ulang dari setiap cluster dengan mean nya\n",
        "    for i in cluster:\n",
        "      centroids[i] = np.mean(cluster[i], axis= 0)\n",
        "    #mengecek apakah centroid suda h stabil atau belum \n",
        "    if convergent(temp_centroids, centroids) : break\n",
        "    #copy centroid sekarang untuk dibandingkan dengan centroid berikutnya \n",
        "    temp_centroids = centroids.copy()\n",
        "  \n",
        "  return centroids, cluster, sum(sse)\n",
        "\n",
        "\n"
      ],
      "execution_count": 129,
      "outputs": []
    },
    {
      "cell_type": "code",
      "metadata": {
        "id": "gpFsT7fEbt5h"
      },
      "source": [
        "def clustering(cluster):\n",
        "  data = []\n",
        "  #memasukan data yang sudah dimodelkan ke dataframe \n",
        "  for key in cluster[1].keys():\n",
        "    for i in cluster[1].get(key):\n",
        "      data.append((i[0], i[1], key))\n",
        "\n",
        "  \n",
        "  data = pd.DataFrame(data)\n",
        "  data.columns = ['Premi', 'Lama_Berlangganan', 'Cluster']\n",
        "\n",
        "  return data\n",
        "\n"
      ],
      "execution_count": 216,
      "outputs": []
    },
    {
      "cell_type": "markdown",
      "metadata": {
        "id": "gTY--M17qsrq"
      },
      "source": [
        "#Main Function "
      ]
    },
    {
      "cell_type": "code",
      "metadata": {
        "colab": {
          "base_uri": "https://localhost:8080/"
        },
        "id": "A4Sulrsud-2f",
        "outputId": "0a2e0685-f7ef-48df-b5b1-eca3c3c0b831"
      },
      "source": [
        "sse_ = []\n",
        "_cluster_ = []\n",
        "\n",
        "data = np.array(data_train)\n",
        "max_iterasi= 100\n",
        "K = 3\n",
        "for i in range(2,6):\n",
        "  centroid, cluster, sse = kMeans(i,max_iterasi, data)\n",
        "  print('jumlah cluster', i , centroid)\n",
        "\n",
        "  sse_.append(sse)\n",
        "  _cluster_.append([i,cluster, centroid])\n"
      ],
      "execution_count": 249,
      "outputs": [
        {
          "output_type": "stream",
          "name": "stdout",
          "text": [
            "jumlah cluster 2 {0: array([0.46402566, 0.75134836]), 1: array([0.46392235, 0.2486237 ])}\n",
            "jumlah cluster 3 {0: array([0.01444214, 0.49925849]), 1: array([0.56278148, 0.75339629]), 2: array([0.56264523, 0.24662284])}\n",
            "jumlah cluster 4 {0: array([0.56486388, 0.75151016]), 1: array([0.5650183 , 0.24858472]), 2: array([0.02072812, 0.75063704]), 3: array([0.02096267, 0.2487945 ])}\n",
            "jumlah cluster 5 {0: array([0.56352937, 0.49817154]), 1: array([0.01576283, 0.24885994]), 2: array([0.563517  , 0.83523464]), 3: array([0.01552755, 0.75090506]), 4: array([0.56381716, 0.16322021])}\n"
          ]
        }
      ]
    },
    {
      "cell_type": "code",
      "metadata": {
        "colab": {
          "base_uri": "https://localhost:8080/"
        },
        "id": "WFQzGvBdtd4o",
        "outputId": "75dc2669-0097-403c-db86-52fb1ad16cdb"
      },
      "source": [
        "sse_"
      ],
      "execution_count": 250,
      "outputs": [
        {
          "output_type": "execute_result",
          "data": {
            "text/plain": [
              "[44199.333062868616, 35949.74143507917, 32302.2591009317, 27992.202602753852]"
            ]
          },
          "metadata": {},
          "execution_count": 250
        }
      ]
    },
    {
      "cell_type": "markdown",
      "metadata": {
        "id": "rV8qsRjkqzwa"
      },
      "source": [
        "#Elbow Method"
      ]
    },
    {
      "cell_type": "code",
      "metadata": {
        "colab": {
          "base_uri": "https://localhost:8080/",
          "height": 281
        },
        "id": "emJdgkmIjeLZ",
        "outputId": "b3cee72a-4db8-4fc8-f950-c992c819a4f7"
      },
      "source": [
        "K = range(2,6)\n",
        "plt.plot(K, sse_, marker = 'o')\n",
        "plt.ylabel('sum_square_error')\n",
        "plt.ylabel('Cluster')\n",
        "plt.title('Elbow Method')\n",
        "\n",
        "plt.show()"
      ],
      "execution_count": 251,
      "outputs": [
        {
          "output_type": "display_data",
          "data": {
            "image/png": "[encoded data removed]",
            "text/plain": [
              "<Figure size 432x288 with 1 Axes>"
            ]
          },
          "metadata": {
            "needs_background": "light"
          }
        }
      ]
    },
    {
      "cell_type": "code",
      "metadata": {
        "id": "N4qW7Ux2cah0"
      },
      "source": [
        ""
      ],
      "execution_count": null,
      "outputs": []
    },
    {
      "cell_type": "markdown",
      "metadata": {
        "id": "Mfsq9h5Tq2cT"
      },
      "source": [
        "#Visualisasi Clustering "
      ]
    },
    {
      "cell_type": "code",
      "metadata": {
        "id": "CFZqb-3fP8Iv"
      },
      "source": [
        "def visualisasi_cluster(clusters):\n",
        "    klasterisasi = []\n",
        "\n",
        "    fig, axis = plt.subplots(2, 2, figsize=(15, 15))\n",
        "    row = 0\n",
        "    col = 0\n",
        "   \n",
        "    for cluster in clusters: \n",
        "        data = clustering(cluster)\n",
        "        klasterisasi.append(data)\n",
        "\n",
        "        #Set Warna\n",
        "        colors = ['hotpink', '#88c999', 'magenta', 'cyan', 'green', 'pink']\n",
        "\n",
        "        axis[col, row].set_title(f'{cluster[0]} Cluster', fontsize=14)\n",
        "\n",
        "        \n",
        "        for i in range(cluster[0]):\n",
        "            axis[col][row].scatter(\n",
        "                data['Lama_Berlangganan'][data['Cluster'] == i],\n",
        "                data['Kanal_Penjualan'][data['Cluster'] == i],\n",
        "                color=colors[i],\n",
        "                label=f'Cluster {i}'\n",
        "            )\n",
        "\n",
        "            axis[col][row].scatter(cluster[2][i][0], cluster[2][i][1], color='k', marker='P')\n",
        "\n",
        "        axis[col][row].scatter(cluster[2][0][0], cluster[2][0][1], color='k', label=\"Centroids\", marker='P')\n",
        "                            \n",
        "        axis[col][row].legend(loc='best', bbox_to_anchor=(1, 0.5))\n",
        "\n",
        "        row += 1\n",
        "        if row == 2: row = 0\n",
        "        if row == 0 and col == 0: \n",
        "            row = 0\n",
        "            col = 1 \n",
        "\n",
        "    for ax in axis.flat:\n",
        "        ax.set(xlabel='Lama_Berlangganan', ylabel='Kanal Penjualan')\n",
        "        ax.label_outer()\n",
        "\n",
        "    plt.subplots_adjust(wspace=0.3, hspace=0.1)\n",
        "    plt.show()\n",
        "\n",
        "    return klasterisasi"
      ],
      "execution_count": 253,
      "outputs": []
    },
    {
      "cell_type": "code",
      "metadata": {
        "colab": {
          "base_uri": "https://localhost:8080/",
          "height": 894
        },
        "id": "o-tdT9q0KrFR",
        "outputId": "e2f8089e-8a13-4a8d-e491-f94dbaa7b208"
      },
      "source": [
        "clusterize = visualize_cluster(_cluster_)"
      ],
      "execution_count": 254,
      "outputs": [
        {
          "output_type": "display_data",
          "data": {
            "image/png": "[encoded data removed]",
            "text/plain": [
              "<Figure size 1080x1080 with 4 Axes>"
            ]
          },
          "metadata": {
            "needs_background": "light"
          }
        }
      ]
    },
    {
      "cell_type": "markdown",
      "metadata": {
        "id": "X_wLnFiwq53n"
      },
      "source": [
        "#Pengecekan Menggunakan Silhouette Score "
      ]
    },
    {
      "cell_type": "code",
      "metadata": {
        "colab": {
          "base_uri": "https://localhost:8080/"
        },
        "id": "xCnlolMYaPeP",
        "outputId": "28516f40-bb91-4990-b860-c9e4927046fc"
      },
      "source": [
        "from sklearn.metrics import silhouette_score \n",
        "\n",
        "for i, cluster in enumerate(clusterize):\n",
        "    score = silhouette_score(cluster[['Premi', 'Lama_Berlangganan']], cluster['Cluster'])\n",
        "    print(f'Cluster-{i+3}, Silhouette Score = {score}')\n",
        "    "
      ],
      "execution_count": 255,
      "outputs": [
        {
          "output_type": "stream",
          "name": "stdout",
          "text": [
            "Cluster-3, Silhouette Score = 0.39131843815495393\n",
            "Cluster-4, Silhouette Score = 0.45339244990336675\n",
            "Cluster-5, Silhouette Score = 0.4398033619676446\n",
            "Cluster-6, Silhouette Score = 0.39535527959564326\n"
          ]
        }
      ]
    }
  ]
}